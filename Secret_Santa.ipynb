{
 "cells": [
  {
   "cell_type": "raw",
   "id": "884643b3-911b-47d7-93c4-1e90f498e413",
   "metadata": {
    "tags": []
   },
   "source": [
    "pip install pywhatkit"
   ]
  },
  {
   "cell_type": "code",
   "execution_count": 1,
   "id": "bbf886a7-4ea9-4432-8f0f-24e661dfc6fb",
   "metadata": {},
   "outputs": [],
   "source": [
    "import numpy as np\n",
    "import pywhatkit as pwt\n",
    "from datetime import datetime, date, timedelta"
   ]
  },
  {
   "cell_type": "code",
   "execution_count": 2,
   "id": "f16c2736-aaa4-47ae-81b0-d63720ba502e",
   "metadata": {},
   "outputs": [],
   "source": [
    "# making list \n",
    "family = {\n",
    "'Name1'   : \"+1XXXXXXXXXX\",\n",
    "'Name2'     : \"+1YYYYYYYYY\",\n",
    "'Name3'     : \"+1ZZZZZZZZZZ\"\n",
    "}"
   ]
  },
  {
   "cell_type": "code",
   "execution_count": 3,
   "id": "be64d1f2-5a52-4d2b-89e2-9eb8282b0aac",
   "metadata": {},
   "outputs": [],
   "source": [
    "#Secret Santa allocation\n",
    "secret_santa = list(np.random.choice(list(family.keys()), \n",
    "                                     len(list(family.keys())), \n",
    "                                     replace = False))\n",
    "gift_receiver  = []\n",
    "for k in range(-1, len(secret_santa)-1):\n",
    "    gift_receiver.append(secret_santa[k])"
   ]
  },
  {
   "cell_type": "code",
   "execution_count": 4,
   "id": "a0cb30d1-3768-4d34-b29c-4b84bdb6d4ed",
   "metadata": {},
   "outputs": [],
   "source": [
    "#fetching the phone numbers\n",
    "for key,value in family.items():\n",
    "    phone = []\n",
    "for n in range(len(secret_santa)):\n",
    "        for name in gift_receiver:    \n",
    "            if key == name:\n",
    "                phone.append(family[secret_santa[n]])    "
   ]
  },
  {
   "cell_type": "code",
   "execution_count": 5,
   "id": "85ac0502-9a48-4c0c-8ee7-b884c091f40e",
   "metadata": {},
   "outputs": [],
   "source": [
    "# building text list\n",
    "text = []\n",
    "for n in range(len(gift_receiver)):\n",
    "    \n",
    "    text.append(\"Hello %s , you will get a gift for %s .\" % (secret_santa[n],gift_receiver[n]))\n"
   ]
  },
  {
   "cell_type": "code",
   "execution_count": 6,
   "id": "6108880f-9be4-4eb4-80a2-fad3ec86d8c3",
   "metadata": {},
   "outputs": [
    {
     "name": "stdout",
     "output_type": "stream",
     "text": [
      "In 46 Seconds WhatsApp will open and after 15 Seconds Message will be Delivered!\n",
      "In 45 Seconds WhatsApp will open and after 15 Seconds Message will be Delivered!\n",
      "In 44 Seconds WhatsApp will open and after 15 Seconds Message will be Delivered!\n"
     ]
    }
   ],
   "source": [
    "# sending messages\n",
    "start = datetime.today().replace(hour=21, minute=25, second=0, microsecond=0)\n",
    "for n in range(len(gift_receiver)):\n",
    "    scheduled_time = start + n*timedelta(minutes=1)\n",
    "    pwt.sendwhatmsg(phone[n],text[n],scheduled_time.hour,scheduled_time.minute)"
   ]
  }
 ],
 "metadata": {
  "kernelspec": {
   "display_name": "Python 3 (ipykernel)",
   "language": "python",
   "name": "python3"
  },
  "language_info": {
   "codemirror_mode": {
    "name": "ipython",
    "version": 3
   },
   "file_extension": ".py",
   "mimetype": "text/x-python",
   "name": "python",
   "nbconvert_exporter": "python",
   "pygments_lexer": "ipython3",
   "version": "3.8.8"
  }
 },
 "nbformat": 4,
 "nbformat_minor": 5
}
